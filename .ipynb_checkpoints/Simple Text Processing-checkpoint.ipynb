{
 "cells": [
  {
   "cell_type": "code",
   "execution_count": null,
   "metadata": {
    "collapsed": true
   },
   "outputs": [],
   "source": [
    "import sys, json\n",
    "from textblob import TextBlob\n",
    "import numpy as np\n",
    "\n",
    "\n",
    "#Read data from stdin\n",
    "def read_in():\n",
    "    lines = sys.stdin.readlines()\n",
    "    #Since our input would only be having one line, parse our JSON data from that\n",
    "    return json.loads(lines[0])\n",
    "\n",
    "def main():\n",
    "    #get our data as an array from read_in()\n",
    "    lines = read_in()#reads the data from the console\n",
    "    blob = TextBlob(lines)#converts it to a blob\n",
    "    list1 = blob.tags\n",
    "    list2 = blob.words\n",
    "    #output stream\n",
    "    print (list2)#printing out to the console.\n",
    "    \n",
    "\n",
    "#start process\n",
    "if __name__ == '__main__':\n",
    "    main()"
   ]
  }
 ],
 "metadata": {
  "kernelspec": {
   "display_name": "Python (datascience)",
   "language": "python",
   "name": "datascience"
  }
 },
 "nbformat": 4,
 "nbformat_minor": 2
}
